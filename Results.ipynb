{
 "cells": [
  {
   "cell_type": "code",
   "execution_count": 27,
   "metadata": {},
   "outputs": [
    {
     "data": {
      "text/plain": [
       "<All keys matched successfully>"
      ]
     },
     "execution_count": 27,
     "metadata": {},
     "output_type": "execute_result"
    }
   ],
   "source": [
    "import torch\n",
    "from project.fer_module import FerModule  \n",
    "import yaml\n",
    "\n",
    "\n",
    "yaml_path = 'C:\\\\Users\\\\Othmane\\\\Desktop\\\\spiking-fer-master\\\\experiments\\\\CKPlusDVS_0\\\\version_31\\hparams.yaml'\n",
    "\n",
    "# Charger le fichier YAML\n",
    "with open(yaml_path, 'r') as file:\n",
    "    hparams = yaml.safe_load(file)\n",
    "# Chemin vers le fichier de checkpoint\n",
    "checkpoint_path = 'C:\\\\Users\\\\Othmane\\\\Desktop\\\\spiking-fer-master\\\\experiments\\\\CKPlusDVS_0\\\\version_31\\\\checkpoints\\\\0_epoch=717_val_acc=0.7324.ckpt'\n",
    "\n",
    "# Charger le checkpoint\n",
    "checkpoint = torch.load(checkpoint_path)\n",
    "timesteps = hparams['timesteps']\n",
    "learning_rate = hparams['learning_rate']\n",
    "n_classes = hparams['n_classes']\n",
    "epochs = hparams['epochs']\n",
    "# Initialiser le modèle \n",
    "model = FerModule(learning_rate=learning_rate,timesteps=timesteps, n_classes=n_classes, epochs=epochs,mode=\"snn\")\n",
    "\n",
    "# Charger les poids du modèle à partir du checkpoint\n",
    "model.load_state_dict(checkpoint['state_dict'])\n"
   ]
  },
  {
   "cell_type": "code",
   "execution_count": 28,
   "metadata": {},
   "outputs": [],
   "source": [
    "from torch.utils.data import DataLoader\n",
    "from project.datamodules.fer_dvs import FerDVS  # Assurez-vous que le chemin d'importation est correct\n",
    "from project.utils.transforms import DVSTransform  # Assurez-vous que le chemin d'importation est correct\n",
    "\n",
    "# Instancier la transformation\n",
    "transforms_list = [\"flip\", \"background_activity\", \"crop\", \"reverse\", \"mirror\", \"event_drop\"]\n",
    "transform = DVSTransform(\n",
    "    sensor_size=FerDVS.sensor_size,  \n",
    "    timesteps=6,  # Le nombre de pas de temps \n",
    "    transforms_list=transforms_list,\n",
    "    concat_time_channels=\"snn\"  \n",
    ")\n",
    "# Créer une instance du Dataset en utilisant FerDVS\n",
    "dataset = FerDVS(save_to=\"C:\\\\Users\\\\Othmane\\\\Desktop\\\\spiking-fer-master\\\\data\",\n",
    "                 dataset=\"CKPlusDVS\",  \n",
    "                 train=True,\n",
    "                 fold=0,\n",
    "                 transform=transform)\n",
    "\n",
    "# Créer un DataLoader pour l'inférence\n",
    "data_loader = DataLoader(dataset, batch_size=32, shuffle=False)"
   ]
  },
  {
   "cell_type": "code",
   "execution_count": 29,
   "metadata": {},
   "outputs": [],
   "source": [
    "inputs = inputs.unsqueeze(1)  # Ajoute une dimension de pas de temps après la dimension du lot\n",
    "\n"
   ]
  },
  {
   "cell_type": "code",
   "execution_count": 44,
   "metadata": {},
   "outputs": [
    {
     "name": "stdout",
     "output_type": "stream",
     "text": [
      "Lot 0: Taille des entrées avant réduction des canaux: torch.Size([32, 12, 128, 128]) - Taille des étiquettes: torch.Size([32])\n",
      "Lot 0: Taille des entrées après réduction des canaux: torch.Size([32, 2, 128, 128])\n",
      "Lot 0: Taille des sorties du modèle: torch.Size([32, 6])\n",
      "Lot 0: Taille des prédictions: torch.Size([32])\n",
      "Lot 0: Nombre d'étiquettes aplaties: 32 - Nombre de prédictions aplaties: 32\n",
      "Lot 1: Taille des entrées avant réduction des canaux: torch.Size([32, 12, 128, 128]) - Taille des étiquettes: torch.Size([32])\n",
      "Lot 1: Taille des entrées après réduction des canaux: torch.Size([32, 2, 128, 128])\n",
      "Lot 1: Taille des sorties du modèle: torch.Size([32, 6])\n",
      "Lot 1: Taille des prédictions: torch.Size([32])\n",
      "Lot 1: Nombre d'étiquettes aplaties: 32 - Nombre de prédictions aplaties: 32\n",
      "Lot 2: Taille des entrées avant réduction des canaux: torch.Size([32, 12, 128, 128]) - Taille des étiquettes: torch.Size([32])\n",
      "Lot 2: Taille des entrées après réduction des canaux: torch.Size([32, 2, 128, 128])\n",
      "Lot 2: Taille des sorties du modèle: torch.Size([32, 6])\n",
      "Lot 2: Taille des prédictions: torch.Size([32])\n",
      "Lot 2: Nombre d'étiquettes aplaties: 32 - Nombre de prédictions aplaties: 32\n",
      "Lot 3: Taille des entrées avant réduction des canaux: torch.Size([32, 12, 128, 128]) - Taille des étiquettes: torch.Size([32])\n",
      "Lot 3: Taille des entrées après réduction des canaux: torch.Size([32, 2, 128, 128])\n",
      "Lot 3: Taille des sorties du modèle: torch.Size([32, 6])\n",
      "Lot 3: Taille des prédictions: torch.Size([32])\n",
      "Lot 3: Nombre d'étiquettes aplaties: 32 - Nombre de prédictions aplaties: 32\n",
      "Lot 4: Taille des entrées avant réduction des canaux: torch.Size([32, 12, 128, 128]) - Taille des étiquettes: torch.Size([32])\n",
      "Lot 4: Taille des entrées après réduction des canaux: torch.Size([32, 2, 128, 128])\n",
      "Lot 4: Taille des sorties du modèle: torch.Size([32, 6])\n",
      "Lot 4: Taille des prédictions: torch.Size([32])\n",
      "Lot 4: Nombre d'étiquettes aplaties: 32 - Nombre de prédictions aplaties: 32\n",
      "Lot 5: Taille des entrées avant réduction des canaux: torch.Size([32, 12, 128, 128]) - Taille des étiquettes: torch.Size([32])\n",
      "Lot 5: Taille des entrées après réduction des canaux: torch.Size([32, 2, 128, 128])\n",
      "Lot 5: Taille des sorties du modèle: torch.Size([32, 6])\n",
      "Lot 5: Taille des prédictions: torch.Size([32])\n",
      "Lot 5: Nombre d'étiquettes aplaties: 32 - Nombre de prédictions aplaties: 32\n",
      "Lot 6: Taille des entrées avant réduction des canaux: torch.Size([32, 12, 128, 128]) - Taille des étiquettes: torch.Size([32])\n",
      "Lot 6: Taille des entrées après réduction des canaux: torch.Size([32, 2, 128, 128])\n",
      "Lot 6: Taille des sorties du modèle: torch.Size([32, 6])\n",
      "Lot 6: Taille des prédictions: torch.Size([32])\n",
      "Lot 6: Nombre d'étiquettes aplaties: 32 - Nombre de prédictions aplaties: 32\n",
      "Lot 7: Taille des entrées avant réduction des canaux: torch.Size([32, 12, 128, 128]) - Taille des étiquettes: torch.Size([32])\n",
      "Lot 7: Taille des entrées après réduction des canaux: torch.Size([32, 2, 128, 128])\n",
      "Lot 7: Taille des sorties du modèle: torch.Size([32, 6])\n",
      "Lot 7: Taille des prédictions: torch.Size([32])\n",
      "Lot 7: Nombre d'étiquettes aplaties: 32 - Nombre de prédictions aplaties: 32\n",
      "Lot 8: Taille des entrées avant réduction des canaux: torch.Size([30, 12, 128, 128]) - Taille des étiquettes: torch.Size([30])\n",
      "Lot 8: Taille des entrées après réduction des canaux: torch.Size([30, 2, 128, 128])\n",
      "Lot 8: Taille des sorties du modèle: torch.Size([30, 6])\n",
      "Lot 8: Taille des prédictions: torch.Size([30])\n",
      "Lot 8: Nombre d'étiquettes aplaties: 30 - Nombre de prédictions aplaties: 30\n"
     ]
    }
   ],
   "source": [
    "from sklearn.metrics import confusion_matrix, classification_report\n",
    "import numpy as np\n",
    "from project.models.snn_models import SNNModule  \n",
    "\n",
    "model.eval()\n",
    "\n",
    "\n",
    "y_true = []\n",
    "y_pred = []\n",
    "model = SNNModule(in_channels=2, timesteps=hparams['timesteps'], n_classes=hparams['n_classes'])\n",
    "\n",
    "\n",
    "with torch.no_grad():\n",
    "    for i, (inputs, labels) in enumerate(data_loader):\n",
    "        print(f\"Lot {i}: Taille des entrées avant réduction des canaux: {inputs.size()} - Taille des étiquettes: {labels.size()}\")\n",
    "\n",
    "\n",
    "        inputs_reduced = torch.mean(inputs[:, :6, :, :], dim=1, keepdim=True)  # Moyenne des 6 premiers canaux\n",
    "        inputs_reduced = torch.cat((inputs_reduced, torch.mean(inputs[:, 6:, :, :], dim=1, keepdim=True)), dim=1)  # Ajout de la moyenne des 6 derniers canaux\n",
    "        print(f\"Lot {i}: Taille des entrées après réduction des canaux: {inputs_reduced.size()}\")\n",
    "\n",
    "       \n",
    "        if inputs_reduced.dim() == 4:  # (batch_size, channels, height, width)\n",
    "            inputs_reduced = inputs_reduced.unsqueeze(0)  # Ajout d'une dimension temporelle pour SNN\n",
    "        inputs_reduced = inputs_reduced.permute(1, 0, 2, 3, 4)\n",
    "        outputs = model(inputs_reduced)\n",
    "        print(f\"Lot {i}: Taille des sorties du modèle: {outputs.size()}\")\n",
    "\n",
    "        if outputs.size(0) == inputs_reduced.size(0):\n",
    "            _, predicted = torch.max(outputs, dim=1)\n",
    "        \n",
    "            print(f\"Lot {i}: Taille des prédictions: {predicted.size()}\")\n",
    "            labels_flat = labels.view(-1).cpu().numpy()  # Aplatir et convertir en numpy\n",
    "            predicted_flat = predicted.view(-1).cpu().numpy()\n",
    "            print(f\"Lot {i}: Nombre d'étiquettes aplaties: {len(labels_flat)} - Nombre de prédictions aplaties: {len(predicted_flat)}\")\n",
    "\n",
    "        else:\n",
    "            print(f\"Erreur dans le lot {i}: la taille de sortie du modèle ne correspond pas au lot d'entrée.\")\n",
    "\n",
    "        y_true.extend(labels_flat)\n",
    "        y_pred.extend(predicted_flat)\n",
    "\n"
   ]
  },
  {
   "cell_type": "code",
   "execution_count": 36,
   "metadata": {},
   "outputs": [
    {
     "name": "stdout",
     "output_type": "stream",
     "text": [
      "torch.Size([32, 12, 128, 128]) torch.Size([32])\n",
      "torch.Size([32, 12, 128, 128]) torch.Size([32])\n",
      "torch.Size([32, 12, 128, 128]) torch.Size([32])\n",
      "torch.Size([32, 12, 128, 128]) torch.Size([32])\n",
      "torch.Size([32, 12, 128, 128]) torch.Size([32])\n",
      "torch.Size([32, 12, 128, 128]) torch.Size([32])\n",
      "torch.Size([32, 12, 128, 128]) torch.Size([32])\n",
      "torch.Size([32, 12, 128, 128]) torch.Size([32])\n",
      "torch.Size([30, 12, 128, 128]) torch.Size([30])\n"
     ]
    }
   ],
   "source": [
    "for inputs, labels in data_loader:\n",
    "    print(inputs.size(), labels.size())\n"
   ]
  },
  {
   "cell_type": "code",
   "execution_count": 26,
   "metadata": {},
   "outputs": [
    {
     "name": "stdout",
     "output_type": "stream",
     "text": [
      "torch.FloatTensor\n"
     ]
    }
   ],
   "source": [
    "print(inputs.type())"
   ]
  },
  {
   "cell_type": "code",
   "execution_count": 45,
   "metadata": {},
   "outputs": [
    {
     "name": "stdout",
     "output_type": "stream",
     "text": [
      "Matrice de confusion :\n",
      " [[ 3  6 23 22 12  7]\n",
      " [ 0  2 20  7 10  3]\n",
      " [ 2  5 13 22 15  2]\n",
      " [ 4  2  3 10  7  1]\n",
      " [ 2  4 12  7  6  3]\n",
      " [ 1  4 15 13 14  4]]\n",
      "Rapport de classification :\n",
      "               precision    recall  f1-score   support\n",
      "\n",
      "       happy       0.25      0.04      0.07        73\n",
      "        fear       0.09      0.05      0.06        42\n",
      "    surprise       0.15      0.22      0.18        59\n",
      "       anger       0.12      0.37      0.19        27\n",
      "     disgust       0.09      0.18      0.12        34\n",
      "     sadness       0.20      0.08      0.11        51\n",
      "\n",
      "    accuracy                           0.13       286\n",
      "   macro avg       0.15      0.16      0.12       286\n",
      "weighted avg       0.17      0.13      0.12       286\n",
      "\n"
     ]
    }
   ],
   "source": [
    "\n",
    "conf_matrix = confusion_matrix(y_true, y_pred)\n",
    "print(\"Matrice de confusion :\\n\", conf_matrix)\n",
    "\n",
    "print(\"Rapport de classification :\\n\", classification_report(y_true, y_pred, target_names=FerDVS.classes))"
   ]
  },
  {
   "cell_type": "code",
   "execution_count": 49,
   "metadata": {},
   "outputs": [
    {
     "data": {
      "image/png": "[encoded data removed]",
      "text/plain": [
       "<Figure size 1000x800 with 2 Axes>"
      ]
     },
     "metadata": {},
     "output_type": "display_data"
    }
   ],
   "source": [
    "import seaborn as sns\n",
    "import matplotlib.pyplot as plt\n",
    "from sklearn.metrics import confusion_matrix\n",
    "\n",
    "# Calculer la matrice de confusion\n",
    "conf_matrix = confusion_matrix(y_true, y_pred)\n",
    "\n",
    "# Tracer la matrice de confusion\n",
    "plt.figure(figsize=(10, 8))\n",
    "sns.heatmap(conf_matrix, annot=True, fmt='d', cmap='Blues', xticklabels=FerDVS.classes, yticklabels=FerDVS.classes)\n",
    "plt.xlabel('Prédictions')\n",
    "plt.ylabel('Véritables Étiquettes')\n",
    "plt.title('Matrice de Confusion')\n",
    "plt.show()\n"
   ]
  }
 ],
 "metadata": {
  "kernelspec": {
   "display_name": "Python 3",
   "language": "python",
   "name": "python3"
  },
  "language_info": {
   "codemirror_mode": {
    "name": "ipython",
    "version": 3
   },
   "file_extension": ".py",
   "mimetype": "text/x-python",
   "name": "python",
   "nbconvert_exporter": "python",
   "pygments_lexer": "ipython3",
   "version": "3.8.10"
  }
 },
 "nbformat": 4,
 "nbformat_minor": 2
}
